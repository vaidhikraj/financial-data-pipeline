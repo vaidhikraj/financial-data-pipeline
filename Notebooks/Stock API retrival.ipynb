{
 "cells": [
  {
   "cell_type": "code",
   "execution_count": 2,
   "id": "af674d57",
   "metadata": {},
   "outputs": [
    {
     "name": "stdout",
     "output_type": "stream",
     "text": [
      "Stock data saved to 'stock_data.csv'\n"
     ]
    }
   ],
   "source": [
    "import requests\n",
    "import pandas as pd\n",
    "\n",
    "# API details\n",
    "API_KEY = \"8AZD0AXLPNK91C6N\"  # Replace with your API key\n",
    "symbol = \"MSFT\"\n",
    "url = \"https://www.alphavantage.co/query\"\n",
    "\n",
    "# Request parameters\n",
    "params = {\n",
    "    \"function\": \"TIME_SERIES_DAILY\",\n",
    "    \"symbol\": symbol,\n",
    "    \"outputsize\": \"full\",\n",
    "    \"apikey\": API_KEY\n",
    "}\n",
    "\n",
    "# Fetch data\n",
    "response = requests.get(url, params=params)\n",
    "data = response.json()\n",
    "\n",
    "# Extract and format data\n",
    "time_series = data[\"Time Series (Daily)\"]\n",
    "df = pd.DataFrame.from_dict(time_series, orient=\"index\")\n",
    "df.columns = [\"Open\", \"High\", \"Low\", \"Close\", \"Volume\"]\n",
    "df.index = pd.to_datetime(df.index)\n",
    "df = df.apply(pd.to_numeric)\n",
    "df.sort_index(inplace=True)\n",
    "\n",
    "# Save to CSV\n",
    "df.to_csv(\"stock_data.csv\", index=True)\n",
    "print(\"Stock data saved to 'stock_data.csv'\")\n"
   ]
  },
  {
   "cell_type": "code",
   "execution_count": null,
   "id": "6dec922c",
   "metadata": {},
   "outputs": [],
   "source": []
  }
 ],
 "metadata": {
  "kernelspec": {
   "display_name": "Python 3 (ipykernel)",
   "language": "python",
   "name": "python3"
  },
  "language_info": {
   "codemirror_mode": {
    "name": "ipython",
    "version": 3
   },
   "file_extension": ".py",
   "mimetype": "text/x-python",
   "name": "python",
   "nbconvert_exporter": "python",
   "pygments_lexer": "ipython3",
   "version": "3.11.5"
  }
 },
 "nbformat": 4,
 "nbformat_minor": 5
}
