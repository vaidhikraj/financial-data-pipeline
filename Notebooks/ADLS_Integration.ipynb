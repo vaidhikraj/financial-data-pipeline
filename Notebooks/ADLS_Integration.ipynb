{
 "cells": [
  {
   "cell_type": "code",
   "execution_count": 0,
   "metadata": {
    "application/vnd.databricks.v1+cell": {
     "cellMetadata": {
      "byteLimit": 2048000,
      "rowLimit": 10000
     },
     "inputWidgets": {},
     "nuid": "05f51b35-beea-4a8c-86d4-284d560e32b1",
     "showTitle": false,
     "tableResultSettingsMap": {},
     "title": ""
    }
   },
   "outputs": [
    {
     "output_type": "stream",
     "name": "stdout",
     "output_type": "stream",
     "text": [
      "Mounted financial-data at /mnt/financial-data\n"
     ]
    }
   ],
   "source": [
    "# Replace with your values\n",
    "storage_account_name = \"financialstgacc\"\n",
    "storage_account_key = \"kDiYzl3e8p6b0UGWOp56l87Be3tGLGG/l/Fe1rUzPQDu9CarCeQIA9E36rzwPLYrAaEBtkPd78nV+AStxHsljg==\"\n",
    "container_name = \"financial-data\"\n",
    "\n",
    "## Mount point in Databricks\n",
    "mount_point = f\"/mnt/{container_name}\"\n",
    "\n",
    "# Mount the ADLS Gen2 container\n",
    "dbutils.fs.mount(\n",
    "    source=f\"wasbs://{container_name}@{storage_account_name}.blob.core.windows.net\",\n",
    "    mount_point=mount_point,\n",
    "    extra_configs={\n",
    "        f\"fs.azure.account.key.{storage_account_name}.blob.core.windows.net\": storage_account_key\n",
    "    }\n",
    ")\n",
    "\n",
    "print(f\"Mounted {container_name} at {mount_point}\")"
   ]
  },
  {
   "cell_type": "code",
   "execution_count": 0,
   "metadata": {
    "application/vnd.databricks.v1+cell": {
     "cellMetadata": {
      "byteLimit": 2048000,
      "rowLimit": 10000
     },
     "inputWidgets": {},
     "nuid": "699c42a2-b0a5-4267-8e74-096313f73693",
     "showTitle": false,
     "tableResultSettingsMap": {},
     "title": ""
    }
   },
   "outputs": [
    {
     "output_type": "execute_result",
     "data": {
      "text/plain": [
       "[FileInfo(path='dbfs:/mnt/financial-data/raw/stock_data.csv', name='stock_data.csv', size=282333, modificationTime=1732214712000)]"
      ]
     },
     "execution_count": 3,
     "metadata": {},
     "output_type": "execute_result"
    }
   ],
   "source": [
    "# List the contents of the raw folder\n",
    "dbutils.fs.ls(\"/mnt/financial-data/raw\")\n"
   ]
  },
  {
   "cell_type": "code",
   "execution_count": 0,
   "metadata": {
    "application/vnd.databricks.v1+cell": {
     "cellMetadata": {
      "byteLimit": 2048000,
      "rowLimit": 10000
     },
     "inputWidgets": {},
     "nuid": "a9d8c32b-e97e-4674-8b1e-9d2cc9d1791b",
     "showTitle": false,
     "tableResultSettingsMap": {},
     "title": ""
    }
   },
   "outputs": [
    {
     "output_type": "execute_result",
     "data": {
      "text/plain": [
       "[MountInfo(mountPoint='/databricks-datasets', source='databricks-datasets', encryptionType=''),\n",
       " MountInfo(mountPoint='/mnt/vaidhikmnt', source='wasbs://vaidhikcont@vaidhikstgacc.blob.core.windows.net/', encryptionType=''),\n",
       " MountInfo(mountPoint='/databricks/mlflow-tracking', source='databricks/mlflow-tracking', encryptionType='sse-s3'),\n",
       " MountInfo(mountPoint='/databricks-results', source='databricks-results', encryptionType='sse-s3'),\n",
       " MountInfo(mountPoint='/mnt/vaidhikblobmount', source='wasbs://vaidhikcont@vaidhikblobstg.blob.core.windows.net', encryptionType=''),\n",
       " MountInfo(mountPoint='/databricks/mlflow-registry', source='databricks/mlflow-registry', encryptionType='sse-s3'),\n",
       " MountInfo(mountPoint='/mnt/financial-data', source='wasbs://financial-data@financialstgacc.blob.core.windows.net', encryptionType=''),\n",
       " MountInfo(mountPoint='/', source='DatabricksRoot', encryptionType='sse-s3')]"
      ]
     },
     "execution_count": 4,
     "metadata": {},
     "output_type": "execute_result"
    }
   ],
   "source": [
    "dbutils.fs.mounts()"
   ]
  }
 ],
 "metadata": {
  "application/vnd.databricks.v1+notebook": {
   "dashboards": [],
   "environmentMetadata": null,
   "language": "python",
   "notebookMetadata": {
    "pythonIndentUnit": 4
   },
   "notebookName": "ADLS_Integration",
   "widgets": {}
  }
 },
 "nbformat": 4,
 "nbformat_minor": 0
}
